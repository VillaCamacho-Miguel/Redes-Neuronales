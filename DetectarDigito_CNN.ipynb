{
  "nbformat": 4,
  "nbformat_minor": 0,
  "metadata": {
    "colab": {
      "provenance": [],
      "include_colab_link": true
    },
    "kernelspec": {
      "name": "python3",
      "display_name": "Python 3"
    },
    "language_info": {
      "name": "python"
    },
    "accelerator": "GPU",
    "gpuClass": "standard"
  },
  "cells": [
    {
      "cell_type": "markdown",
      "metadata": {
        "id": "view-in-github",
        "colab_type": "text"
      },
      "source": [
        "<a href=\"https://colab.research.google.com/github/VillaCamacho-Miguel/Redes-Neuronales/blob/main/DetectarDigito_CNN.ipynb\" target=\"_parent\"><img src=\"https://colab.research.google.com/assets/colab-badge.svg\" alt=\"Open In Colab\"/></a>"
      ]
    },
    {
      "cell_type": "code",
      "execution_count": null,
      "metadata": {
        "colab": {
          "base_uri": "https://localhost:8080/"
        },
        "id": "d5ZB9yHwYCrZ",
        "outputId": "f589a63b-5ed2-40ca-b202-bb1b5abd3140"
      },
      "outputs": [
        {
          "output_type": "stream",
          "name": "stdout",
          "text": [
            "Downloading data from https://storage.googleapis.com/tensorflow/tf-keras-datasets/mnist.npz\n",
            "11490434/11490434 [==============================] - 1s 0us/step\n",
            "Epoch 1/10\n",
            "300/300 - 12s - loss: 0.4326 - accuracy: 0.8730 - val_loss: 0.1211 - val_accuracy: 0.9626 - 12s/epoch - 39ms/step\n",
            "Epoch 2/10\n",
            "300/300 - 2s - loss: 0.1094 - accuracy: 0.9672 - val_loss: 0.0738 - val_accuracy: 0.9768 - 2s/epoch - 6ms/step\n",
            "Epoch 3/10\n",
            "300/300 - 1s - loss: 0.0805 - accuracy: 0.9753 - val_loss: 0.0620 - val_accuracy: 0.9818 - 1s/epoch - 4ms/step\n",
            "Epoch 4/10\n",
            "300/300 - 1s - loss: 0.0656 - accuracy: 0.9795 - val_loss: 0.0526 - val_accuracy: 0.9826 - 1s/epoch - 3ms/step\n",
            "Epoch 5/10\n",
            "300/300 - 1s - loss: 0.0560 - accuracy: 0.9826 - val_loss: 0.0496 - val_accuracy: 0.9832 - 1s/epoch - 4ms/step\n",
            "Epoch 6/10\n",
            "300/300 - 1s - loss: 0.0481 - accuracy: 0.9850 - val_loss: 0.0420 - val_accuracy: 0.9864 - 1s/epoch - 4ms/step\n",
            "Epoch 7/10\n",
            "300/300 - 1s - loss: 0.0430 - accuracy: 0.9868 - val_loss: 0.0434 - val_accuracy: 0.9872 - 1s/epoch - 4ms/step\n",
            "Epoch 8/10\n",
            "300/300 - 1s - loss: 0.0390 - accuracy: 0.9878 - val_loss: 0.0399 - val_accuracy: 0.9867 - 1s/epoch - 4ms/step\n",
            "Epoch 9/10\n",
            "300/300 - 1s - loss: 0.0356 - accuracy: 0.9890 - val_loss: 0.0420 - val_accuracy: 0.9862 - 1s/epoch - 3ms/step\n",
            "Epoch 10/10\n",
            "300/300 - 1s - loss: 0.0324 - accuracy: 0.9898 - val_loss: 0.0331 - val_accuracy: 0.9894 - 1s/epoch - 3ms/step\n",
            "Accuracy: 0.9894000291824341 \n",
            " Error: 1.0599970817565918\n"
          ]
        }
      ],
      "source": [
        "import keras\n",
        "import numpy as np\n",
        "from keras.models import Sequential\n",
        "from keras.layers import Dense\n",
        "from keras.utils import to_categorical\n",
        "from keras.layers.convolutional import Conv2D \n",
        "from keras.layers.convolutional import MaxPooling2D \n",
        "from keras.layers import Flatten \n",
        "from keras.datasets import mnist\n",
        "import cv2\n",
        "from PIL import Image\n",
        "\n",
        "(X_train, y_train), (X_test, y_test) = mnist.load_data()\n",
        "\n",
        "X_train = X_train.reshape(X_train.shape[0], 28, 28, 1).astype('float32')\n",
        "X_test = X_test.reshape(X_test.shape[0], 28, 28, 1).astype('float32')\n",
        "\n",
        "X_train = X_train / 255 \n",
        "X_test = X_test / 255 \n",
        "\n",
        "y_train = to_categorical(y_train)\n",
        "y_test = to_categorical(y_test)\n",
        "\n",
        "num_classes = y_test.shape[1] \n",
        "\n",
        "def convolutional_model():\n",
        "    model = Sequential()\n",
        "    model.add(Conv2D(16, (5, 5), activation='relu', input_shape=(28, 28, 1)))\n",
        "    model.add(MaxPooling2D(pool_size=(2, 2), strides=(2, 2)))\n",
        "    model.add(Conv2D(8, (2, 2), activation='relu'))\n",
        "    model.add(MaxPooling2D(pool_size=(2, 2), strides=(2, 2))) \n",
        "    model.add(Flatten())\n",
        "    model.add(Dense(100, activation='relu'))\n",
        "    model.add(Dense(num_classes, activation='softmax'))\n",
        "    model.compile(optimizer='adam', loss='categorical_crossentropy',  metrics=['accuracy'])\n",
        "    return model\n",
        "\n",
        "model = convolutional_model()\n",
        "model.fit(X_train, y_train, validation_data=(X_test, y_test), epochs=10, batch_size=200, verbose=2)\n",
        "\n",
        "scores = model.evaluate(X_test, y_test, verbose=0)\n",
        "print(\"Accuracy: {} \\n Error: {}\".format(scores[1], 100-scores[1]*100))\n",
        "\n"
      ]
    },
    {
      "cell_type": "code",
      "source": [
        "#Custom Image Prediction\n",
        "size = 28,28\n",
        "image1=\"cuatro.jpg\"\n",
        "im = Image.open(image1)\n",
        "im_resized = im.resize(size, Image.ANTIALIAS)\n",
        "im_resized.save(\"down.png\",\"PNG\")\n",
        "img = cv2.imread(\"down.png\",0)  \n",
        "img = img / 255 \n",
        "\n",
        "img = np.reshape(img,(1, 28, 28, 1)) \n",
        "lista = model.predict(img)\n",
        "lista = lista.tolist()\n",
        "\n",
        "\n",
        "max = lista[0][0]\n",
        "index = 0\n",
        "for i in range(1,len(lista[0])):\n",
        "    if lista[0][i] > max:\n",
        "        max = lista[0][i]\n",
        "        index = i\n",
        "print(f'Numero mas probable : {index}')\n",
        "\n",
        "\n"
      ],
      "metadata": {
        "colab": {
          "base_uri": "https://localhost:8080/"
        },
        "id": "R6rSpeleYXWt",
        "outputId": "f8850d1a-1cf6-4f9b-98d1-b161e7760fba"
      },
      "execution_count": null,
      "outputs": [
        {
          "output_type": "stream",
          "name": "stdout",
          "text": [
            "1/1 [==============================] - 0s 17ms/step\n",
            "Numero mas probable : 8\n"
          ]
        }
      ]
    },
    {
      "cell_type": "code",
      "source": [
        "# make a prediction for a new image.\n",
        "# make a prediction for a new image.\n",
        "from numpy import argmax\n",
        "from keras.preprocessing.image import load_img\n",
        "from keras.preprocessing.image import img_to_array\n",
        "from keras.models import load_model\n",
        " \n",
        "# load and prepare the image\n",
        "def load_image(filename):\n",
        "\t# load the image\n",
        "\timg = load_image(filename, grayscale=True, target_size=(28, 28))\n",
        "\t# convert to array\n",
        "\timg = imae_t(img)\n",
        "\t# reshape into a single sample with 1 channel\n",
        "\timg = img.reshape(1, 28, 28, 1)\n",
        "\t# prepare pixel data\n",
        "\timg = img.astype('float32')\n",
        "\timg = img / 255.0\n",
        "\treturn img\n",
        " \n",
        "# load the image\n",
        "img = load_image('tu_imagen.jpg')\n",
        "# load model\n",
        "model = load_model('final_model.h5')\n",
        "# predict the class\n",
        "predict_value = model.predict(img)\n",
        "digit = argmax(predict_value)\n",
        "print(digit)"
      ],
      "metadata": {
        "id": "HlUJMCj7nTKT"
      },
      "execution_count": null,
      "outputs": []
    }
  ]
}